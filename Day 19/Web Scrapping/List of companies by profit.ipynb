{
 "cells": [
  {
   "cell_type": "markdown",
   "id": "fa27e009-3817-4317-bfcf-fe609c9b8fe7",
   "metadata": {},
   "source": [
    "List of companies by profit"
   ]
  },
  {
   "cell_type": "code",
   "execution_count": 14,
   "id": "cdf97656-437c-4e5e-bed0-02143746cb5a",
   "metadata": {},
   "outputs": [],
   "source": [
    "import requests\n",
    "from bs4 import BeautifulSoup\n",
    "\n",
    "url='https://en.wikipedia.org/wiki/List_of_largest_companies_in_the_United_States_by_revenue'\n",
    "page=requests.get(url)\n",
    "soup=BeautifulSoup(page.text,'html')\n"
   ]
  },
  {
   "cell_type": "code",
   "execution_count": 28,
   "id": "69332c00-4355-4541-bb82-889ce5d3aaf1",
   "metadata": {},
   "outputs": [],
   "source": [
    "tables=soup.find_all('table')[2]"
   ]
  },
  {
   "cell_type": "code",
   "execution_count": 32,
   "id": "bc323e63-d392-4e6b-9f38-2e43758c0877",
   "metadata": {},
   "outputs": [
    {
     "name": "stdout",
     "output_type": "stream",
     "text": [
      "['Rank', 'Name', 'Industry', 'Profits(USD millions)']\n"
     ]
    }
   ],
   "source": [
    "table_head=table.find_all('th')\n",
    "table_heading=[table.text.strip() for table in table_head]\n",
    "print(table_heading)"
   ]
  },
  {
   "cell_type": "code",
   "execution_count": 36,
   "id": "fb4fe489-b887-4dd0-a02e-f4bbc507e0da",
   "metadata": {},
   "outputs": [],
   "source": [
    "import pandas as pd\n",
    "df=pd.DataFrame(columns=table_heading)"
   ]
  },
  {
   "cell_type": "code",
   "execution_count": 38,
   "id": "a6724e4f-c19e-4261-99cd-65744a564e09",
   "metadata": {},
   "outputs": [
    {
     "data": {
      "text/html": [
       "<div>\n",
       "<style scoped>\n",
       "    .dataframe tbody tr th:only-of-type {\n",
       "        vertical-align: middle;\n",
       "    }\n",
       "\n",
       "    .dataframe tbody tr th {\n",
       "        vertical-align: top;\n",
       "    }\n",
       "\n",
       "    .dataframe thead th {\n",
       "        text-align: right;\n",
       "    }\n",
       "</style>\n",
       "<table border=\"1\" class=\"dataframe\">\n",
       "  <thead>\n",
       "    <tr style=\"text-align: right;\">\n",
       "      <th></th>\n",
       "      <th>Rank</th>\n",
       "      <th>Name</th>\n",
       "      <th>Industry</th>\n",
       "      <th>Profits(USD millions)</th>\n",
       "    </tr>\n",
       "  </thead>\n",
       "  <tbody>\n",
       "  </tbody>\n",
       "</table>\n",
       "</div>"
      ],
      "text/plain": [
       "Empty DataFrame\n",
       "Columns: [Rank, Name, Industry, Profits(USD millions)]\n",
       "Index: []"
      ]
     },
     "execution_count": 38,
     "metadata": {},
     "output_type": "execute_result"
    }
   ],
   "source": [
    "df"
   ]
  },
  {
   "cell_type": "code",
   "execution_count": 52,
   "id": "0f562d92-8d80-476f-bbb7-73c0f4bd2f86",
   "metadata": {},
   "outputs": [],
   "source": [
    "table_rows=tables.find_all('tr')\n",
    "for table_row in table_rows[1:]:\n",
    "    table_datas=table_row.find_all('td')\n",
    "    individual_data=[table_data.text.strip() for table_data in table_datas]\n",
    "    length=len(df)\n",
    "    df.loc[length]=individual_data"
   ]
  },
  {
   "cell_type": "code",
   "execution_count": 54,
   "id": "871c7192-91bb-4374-bd7c-ef597734d2c3",
   "metadata": {},
   "outputs": [
    {
     "data": {
      "text/html": [
       "<div>\n",
       "<style scoped>\n",
       "    .dataframe tbody tr th:only-of-type {\n",
       "        vertical-align: middle;\n",
       "    }\n",
       "\n",
       "    .dataframe tbody tr th {\n",
       "        vertical-align: top;\n",
       "    }\n",
       "\n",
       "    .dataframe thead th {\n",
       "        text-align: right;\n",
       "    }\n",
       "</style>\n",
       "<table border=\"1\" class=\"dataframe\">\n",
       "  <thead>\n",
       "    <tr style=\"text-align: right;\">\n",
       "      <th></th>\n",
       "      <th>Rank</th>\n",
       "      <th>Name</th>\n",
       "      <th>Industry</th>\n",
       "      <th>Profits(USD millions)</th>\n",
       "    </tr>\n",
       "  </thead>\n",
       "  <tbody>\n",
       "    <tr>\n",
       "      <th>0</th>\n",
       "      <td>1</td>\n",
       "      <td>Apple</td>\n",
       "      <td>Electronics</td>\n",
       "      <td>96,995</td>\n",
       "    </tr>\n",
       "    <tr>\n",
       "      <th>1</th>\n",
       "      <td>2</td>\n",
       "      <td>Berkshire Hathaway</td>\n",
       "      <td>Conglomerate</td>\n",
       "      <td>96,223</td>\n",
       "    </tr>\n",
       "    <tr>\n",
       "      <th>2</th>\n",
       "      <td>3</td>\n",
       "      <td>Alphabet</td>\n",
       "      <td>Technology</td>\n",
       "      <td>73,795</td>\n",
       "    </tr>\n",
       "    <tr>\n",
       "      <th>3</th>\n",
       "      <td>4</td>\n",
       "      <td>Microsoft</td>\n",
       "      <td>Technology</td>\n",
       "      <td>72,361</td>\n",
       "    </tr>\n",
       "    <tr>\n",
       "      <th>4</th>\n",
       "      <td>5</td>\n",
       "      <td>JPMorgan Chase</td>\n",
       "      <td>Financials</td>\n",
       "      <td>49,552</td>\n",
       "    </tr>\n",
       "    <tr>\n",
       "      <th>5</th>\n",
       "      <td>6</td>\n",
       "      <td>Meta Platforms</td>\n",
       "      <td>Technology</td>\n",
       "      <td>39,098</td>\n",
       "    </tr>\n",
       "    <tr>\n",
       "      <th>6</th>\n",
       "      <td>7</td>\n",
       "      <td>ExxonMobil</td>\n",
       "      <td>Petroleum industry</td>\n",
       "      <td>36,010</td>\n",
       "    </tr>\n",
       "    <tr>\n",
       "      <th>7</th>\n",
       "      <td>8</td>\n",
       "      <td>Johnson &amp; Johnson</td>\n",
       "      <td>Pharmaceutical industry</td>\n",
       "      <td>35,153</td>\n",
       "    </tr>\n",
       "    <tr>\n",
       "      <th>8</th>\n",
       "      <td>9</td>\n",
       "      <td>Amazon</td>\n",
       "      <td>Retail/Technology</td>\n",
       "      <td>30,425</td>\n",
       "    </tr>\n",
       "    <tr>\n",
       "      <th>9</th>\n",
       "      <td>10</td>\n",
       "      <td>Nvidia</td>\n",
       "      <td>Technology</td>\n",
       "      <td>29,760</td>\n",
       "    </tr>\n",
       "  </tbody>\n",
       "</table>\n",
       "</div>"
      ],
      "text/plain": [
       "  Rank                Name                 Industry Profits(USD millions)\n",
       "0    1               Apple              Electronics                96,995\n",
       "1    2  Berkshire Hathaway             Conglomerate                96,223\n",
       "2    3            Alphabet               Technology                73,795\n",
       "3    4           Microsoft               Technology                72,361\n",
       "4    5      JPMorgan Chase               Financials                49,552\n",
       "5    6      Meta Platforms               Technology                39,098\n",
       "6    7          ExxonMobil       Petroleum industry                36,010\n",
       "7    8   Johnson & Johnson  Pharmaceutical industry                35,153\n",
       "8    9              Amazon        Retail/Technology                30,425\n",
       "9   10              Nvidia               Technology                29,760"
      ]
     },
     "execution_count": 54,
     "metadata": {},
     "output_type": "execute_result"
    }
   ],
   "source": [
    "df"
   ]
  },
  {
   "cell_type": "code",
   "execution_count": 56,
   "id": "d5ccd67d-e653-4e4e-b4ab-381242af8458",
   "metadata": {},
   "outputs": [],
   "source": [
    "df.to_csv(r'C:\\Users\\97798\\Data\\Day 19\\List of companies by profit.csv',index=False)"
   ]
  },
  {
   "cell_type": "code",
   "execution_count": null,
   "id": "8f914979-4071-4320-a459-9a739c81db18",
   "metadata": {},
   "outputs": [],
   "source": []
  },
  {
   "cell_type": "code",
   "execution_count": null,
   "id": "d99f5c27-27a3-4874-be25-db9311e9a48e",
   "metadata": {},
   "outputs": [],
   "source": []
  },
  {
   "cell_type": "code",
   "execution_count": null,
   "id": "4d901c9b-49b4-40f9-97d2-1bb3583518be",
   "metadata": {},
   "outputs": [],
   "source": []
  }
 ],
 "metadata": {
  "kernelspec": {
   "display_name": "Python 3 (ipykernel)",
   "language": "python",
   "name": "python3"
  },
  "language_info": {
   "codemirror_mode": {
    "name": "ipython",
    "version": 3
   },
   "file_extension": ".py",
   "mimetype": "text/x-python",
   "name": "python",
   "nbconvert_exporter": "python",
   "pygments_lexer": "ipython3",
   "version": "3.12.4"
  }
 },
 "nbformat": 4,
 "nbformat_minor": 5
}
