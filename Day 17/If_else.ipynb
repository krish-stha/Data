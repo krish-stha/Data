{
 "cells": [
  {
   "cell_type": "code",
   "execution_count": null,
   "id": "b8534f72-a1a2-4253-bc3a-c66efe0f3939",
   "metadata": {},
   "outputs": [],
   "source": []
  },
  {
   "cell_type": "code",
   "execution_count": 3,
   "id": "1d4e61d4-701c-44a4-a345-014adacb2d6b",
   "metadata": {},
   "outputs": [
    {
     "name": "stdout",
     "output_type": "stream",
     "text": [
      "It is lesser\n"
     ]
    }
   ],
   "source": [
    "if 10>20:\n",
    "    print(\"It is greater\")\n",
    "else:\n",
    "    print(\"It is lesser\")"
   ]
  },
  {
   "cell_type": "code",
   "execution_count": null,
   "id": "979bccc3-908d-4943-8666-94d177ff404e",
   "metadata": {},
   "outputs": [],
   "source": []
  },
  {
   "cell_type": "code",
   "execution_count": 5,
   "id": "55b56309-28cb-4aed-984a-78e04a3fe2ea",
   "metadata": {},
   "outputs": [
    {
     "name": "stdout",
     "output_type": "stream",
     "text": [
      "It is lesser than 80\n"
     ]
    }
   ],
   "source": [
    "if 25<10:\n",
    "    print(\"25 is greater\")\n",
    "elif 25<80:\n",
    "    print(\"It is lesser than 80\")\n",
    "else:\n",
    "    print(\"Error\")"
   ]
  },
  {
   "cell_type": "code",
   "execution_count": null,
   "id": "2dd7da08-d78d-499f-ad07-aa8b049217fd",
   "metadata": {},
   "outputs": [],
   "source": []
  },
  {
   "cell_type": "code",
   "execution_count": null,
   "id": "de72d819-81d2-459f-8211-9e841f2283d2",
   "metadata": {},
   "outputs": [],
   "source": []
  },
  {
   "cell_type": "code",
   "execution_count": null,
   "id": "6ac27a31-8b39-40df-80fa-b58a46c71053",
   "metadata": {},
   "outputs": [],
   "source": []
  }
 ],
 "metadata": {
  "kernelspec": {
   "display_name": "Python 3 (ipykernel)",
   "language": "python",
   "name": "python3"
  },
  "language_info": {
   "codemirror_mode": {
    "name": "ipython",
    "version": 3
   },
   "file_extension": ".py",
   "mimetype": "text/x-python",
   "name": "python",
   "nbconvert_exporter": "python",
   "pygments_lexer": "ipython3",
   "version": "3.12.4"
  }
 },
 "nbformat": 4,
 "nbformat_minor": 5
}
