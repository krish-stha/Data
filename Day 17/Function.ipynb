{
 "cells": [
  {
   "cell_type": "markdown",
   "id": "7821c17c-5d00-4afb-8f48-94a53373cb87",
   "metadata": {},
   "source": [
    "Functions"
   ]
  },
  {
   "cell_type": "code",
   "execution_count": 2,
   "id": "9a739d0b-436d-4482-8a8a-dd400c7dbae2",
   "metadata": {},
   "outputs": [
    {
     "name": "stdout",
     "output_type": "stream",
     "text": [
      "3\n"
     ]
    }
   ],
   "source": [
    "def add():\n",
    "    print(1+2)\n",
    "\n",
    "add()"
   ]
  },
  {
   "cell_type": "code",
   "execution_count": 6,
   "id": "4c1ca8fa-4035-47fd-9c7b-6dd581a234f3",
   "metadata": {},
   "outputs": [
    {
     "name": "stdout",
     "output_type": "stream",
     "text": [
      "First function\n"
     ]
    }
   ],
   "source": [
    "def funct():\n",
    "    return \"First function\"\n",
    "print(funct())"
   ]
  },
  {
   "cell_type": "code",
   "execution_count": 10,
   "id": "9cdc1c4f-ce71-45d5-ab90-bb2ce0b7ff51",
   "metadata": {},
   "outputs": [
    {
     "name": "stdout",
     "output_type": "stream",
     "text": [
      "16\n"
     ]
    }
   ],
   "source": [
    "def square(number):\n",
    "    return number*number\n",
    "print(square(4))"
   ]
  },
  {
   "cell_type": "code",
   "execution_count": 12,
   "id": "09bf52b0-001e-4af7-88e5-9ccc48f1d462",
   "metadata": {},
   "outputs": [
    {
     "name": "stdout",
     "output_type": "stream",
     "text": [
      "20\n"
     ]
    }
   ],
   "source": [
    "def multiply(number1,number2):\n",
    "    return number1*number2\n",
    "print(multiply(4,5))"
   ]
  },
  {
   "cell_type": "code",
   "execution_count": 18,
   "id": "49629e6d-9dc9-4e5a-8aaf-29a023841115",
   "metadata": {},
   "outputs": [
    {
     "data": {
      "text/plain": [
       "8"
      ]
     },
     "execution_count": 18,
     "metadata": {},
     "output_type": "execute_result"
    }
   ],
   "source": [
    "def power(num1,power):\n",
    "    return num1**power\n",
    "\n",
    "power(2,3)"
   ]
  },
  {
   "cell_type": "markdown",
   "id": "9c2a0205-0be9-4584-980a-2989c8531794",
   "metadata": {},
   "source": [
    "Arbitary Argument"
   ]
  },
  {
   "cell_type": "code",
   "execution_count": 23,
   "id": "a2c2efde-c5fc-4682-835f-5040ecb21638",
   "metadata": {},
   "outputs": [
    {
     "name": "stdout",
     "output_type": "stream",
     "text": [
      "30\n"
     ]
    }
   ],
   "source": [
    "args_tuple=(5,6,1,2,6)\n",
    "def num_arg(*number):\n",
    "    print(number[0]*number[1])\n",
    "# num_arg(5,6,1,2,6)\n",
    "num_arg(*args_tuple)"
   ]
  },
  {
   "cell_type": "markdown",
   "id": "6604801d-0363-44c2-85d9-c5620e19da12",
   "metadata": {},
   "source": [
    "Keyword Argument"
   ]
  },
  {
   "cell_type": "code",
   "execution_count": 37,
   "id": "fa1aa2a2-aa43-4395-9514-6addf362cbcf",
   "metadata": {},
   "outputs": [
    {
     "name": "stdout",
     "output_type": "stream",
     "text": [
      "100\n"
     ]
    }
   ],
   "source": [
    "def square(a,b):\n",
    "    print(a*b)\n",
    "square(a=10,b=10)"
   ]
  },
  {
   "cell_type": "code",
   "execution_count": null,
   "id": "2540662f-e940-4a66-9ab5-d0fb6b6e1072",
   "metadata": {},
   "outputs": [],
   "source": [
    "def square(b,a=10):\n",
    "    print(a*b)\n",
    "square(10)"
   ]
  },
  {
   "cell_type": "markdown",
   "id": "6ea9452c-7273-4e42-b7f0-1e62a73be8d2",
   "metadata": {},
   "source": [
    "Arbitary keywrod argument"
   ]
  },
  {
   "cell_type": "code",
   "execution_count": 45,
   "id": "affacb9c-c579-471b-b3d9-39466ce0061b",
   "metadata": {},
   "outputs": [
    {
     "name": "stdout",
     "output_type": "stream",
     "text": [
      "My number is 10My next number s65\n"
     ]
    }
   ],
   "source": [
    "def kwar(**number):\n",
    "    print(\"My number is \"+number['integer']+ 'My next number s'+number['integer2'])\n",
    "\n",
    "kwar(integer='10',integer2='65')"
   ]
  },
  {
   "cell_type": "code",
   "execution_count": null,
   "id": "0d9909d2-89ba-4baf-a7f3-23ae29fb53f1",
   "metadata": {},
   "outputs": [],
   "source": []
  }
 ],
 "metadata": {
  "kernelspec": {
   "display_name": "Python 3 (ipykernel)",
   "language": "python",
   "name": "python3"
  },
  "language_info": {
   "codemirror_mode": {
    "name": "ipython",
    "version": 3
   },
   "file_extension": ".py",
   "mimetype": "text/x-python",
   "name": "python",
   "nbconvert_exporter": "python",
   "pygments_lexer": "ipython3",
   "version": "3.12.4"
  }
 },
 "nbformat": 4,
 "nbformat_minor": 5
}
