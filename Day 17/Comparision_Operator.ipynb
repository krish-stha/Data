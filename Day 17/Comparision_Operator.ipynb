{
 "cells": [
  {
   "cell_type": "markdown",
   "id": "2a65fda4-886f-4818-9f87-e8d3ccfd848b",
   "metadata": {},
   "source": [
    "Comparison Operator"
   ]
  },
  {
   "cell_type": "code",
   "execution_count": 2,
   "id": "df4bb253-adc7-44c1-b4a7-216d3f4f7e89",
   "metadata": {},
   "outputs": [
    {
     "data": {
      "text/plain": [
       "False"
      ]
     },
     "execution_count": 2,
     "metadata": {},
     "output_type": "execute_result"
    }
   ],
   "source": [
    "# It will provide result in boolean format\n",
    "10==5"
   ]
  },
  {
   "cell_type": "code",
   "execution_count": 4,
   "id": "0a273ab7-0dea-4e03-ab56-be740f768781",
   "metadata": {},
   "outputs": [
    {
     "data": {
      "text/plain": [
       "True"
      ]
     },
     "execution_count": 4,
     "metadata": {},
     "output_type": "execute_result"
    }
   ],
   "source": [
    "\"strawberry\"==\"strawberry\""
   ]
  },
  {
   "cell_type": "code",
   "execution_count": 8,
   "id": "82cedc2c-dac6-413d-93c8-82015df083d8",
   "metadata": {},
   "outputs": [
    {
     "data": {
      "text/plain": [
       "True"
      ]
     },
     "execution_count": 8,
     "metadata": {},
     "output_type": "execute_result"
    }
   ],
   "source": [
    "10<20"
   ]
  },
  {
   "cell_type": "code",
   "execution_count": 10,
   "id": "27cabd81-3e1e-4632-a9c2-dd135e9e21e8",
   "metadata": {},
   "outputs": [
    {
     "data": {
      "text/plain": [
       "True"
      ]
     },
     "execution_count": 10,
     "metadata": {},
     "output_type": "execute_result"
    }
   ],
   "source": [
    "20<=20"
   ]
  },
  {
   "cell_type": "markdown",
   "id": "6fa34eab-236c-41cf-84fd-df9d9323dbfe",
   "metadata": {},
   "source": [
    "Logical Operator"
   ]
  },
  {
   "cell_type": "code",
   "execution_count": 13,
   "id": "3583d822-111e-44c2-b833-9eca965038dd",
   "metadata": {},
   "outputs": [
    {
     "data": {
      "text/plain": [
       "False"
      ]
     },
     "execution_count": 13,
     "metadata": {},
     "output_type": "execute_result"
    }
   ],
   "source": [
    "# And Or Not\n",
    "10>50 and 50>10"
   ]
  },
  {
   "cell_type": "code",
   "execution_count": 15,
   "id": "b43efd7f-db99-4da7-af93-f45a61960849",
   "metadata": {},
   "outputs": [
    {
     "data": {
      "text/plain": [
       "True"
      ]
     },
     "execution_count": 15,
     "metadata": {},
     "output_type": "execute_result"
    }
   ],
   "source": [
    "10>50 or 10<50"
   ]
  },
  {
   "cell_type": "code",
   "execution_count": 17,
   "id": "295d111b-2f2a-45c8-8081-998211f2130d",
   "metadata": {},
   "outputs": [
    {
     "data": {
      "text/plain": [
       "True"
      ]
     },
     "execution_count": 17,
     "metadata": {},
     "output_type": "execute_result"
    }
   ],
   "source": [
    "not(10>50)"
   ]
  },
  {
   "cell_type": "markdown",
   "id": "22cd4742-c2cc-4e37-9f54-2788808514cf",
   "metadata": {},
   "source": [
    "Membership Operator"
   ]
  },
  {
   "cell_type": "code",
   "execution_count": null,
   "id": "dde72742-688a-4a39-9e6e-d0cffb9ed56c",
   "metadata": {},
   "outputs": [],
   "source": [
    "# IN , Not IN"
   ]
  },
  {
   "cell_type": "code",
   "execution_count": 19,
   "id": "f7d43b40-6bdb-410c-8cc6-09105fa38c50",
   "metadata": {},
   "outputs": [
    {
     "data": {
      "text/plain": [
       "True"
      ]
     },
     "execution_count": 19,
     "metadata": {},
     "output_type": "execute_result"
    }
   ],
   "source": [
    "ice_cream=\"I Love vanilla\"\n",
    "\n",
    "\"L\" in ice_cream"
   ]
  },
  {
   "cell_type": "code",
   "execution_count": 21,
   "id": "464ad072-76f4-42c6-9b9d-3da42fa0eb47",
   "metadata": {},
   "outputs": [
    {
     "data": {
      "text/plain": [
       "False"
      ]
     },
     "execution_count": 21,
     "metadata": {},
     "output_type": "execute_result"
    }
   ],
   "source": [
    "ice_cream=\"I Love vanilla\"\n",
    "\n",
    "\"L\" not in ice_cream"
   ]
  },
  {
   "cell_type": "code",
   "execution_count": null,
   "id": "a291a238-6530-46a8-be44-12a85639ae3c",
   "metadata": {},
   "outputs": [],
   "source": []
  }
 ],
 "metadata": {
  "kernelspec": {
   "display_name": "Python 3 (ipykernel)",
   "language": "python",
   "name": "python3"
  },
  "language_info": {
   "codemirror_mode": {
    "name": "ipython",
    "version": 3
   },
   "file_extension": ".py",
   "mimetype": "text/x-python",
   "name": "python",
   "nbconvert_exporter": "python",
   "pygments_lexer": "ipython3",
   "version": "3.12.4"
  }
 },
 "nbformat": 4,
 "nbformat_minor": 5
}
