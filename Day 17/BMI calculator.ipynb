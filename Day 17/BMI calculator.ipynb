{
 "cells": [
  {
   "cell_type": "code",
   "execution_count": null,
   "id": "cd49d440-0b00-4944-b476-a384bf81e49c",
   "metadata": {},
   "outputs": [],
   "source": []
  },
  {
   "cell_type": "code",
   "execution_count": 9,
   "id": "a1d0bc9b-c0e7-4990-a4e6-5f198236c4bf",
   "metadata": {},
   "outputs": [
    {
     "name": "stdin",
     "output_type": "stream",
     "text": [
      "Enter Your Weight in pounds:  45\n",
      "Enter your height in inches:  7\n"
     ]
    },
    {
     "name": "stdout",
     "output_type": "stream",
     "text": [
      "Morbidly Obese\n",
      "Risk: Extremely High\n",
      "670.4081632653061\n"
     ]
    }
   ],
   "source": [
    "weight=int(input(\"Enter Your Weight in pounds: \"))\n",
    "height=int(input(\"Enter your height in inches: \"))\n",
    "BMI=(weight *730)/ (height * height)\n",
    "if BMI>0:\n",
    "    \n",
    "    if BMI <18.5:\n",
    "        print(\"Under Weight\")\n",
    "        print(\"Risk : Minimal\")\n",
    "    elif BMI <=24.9:\n",
    "        print(\"Normal Weight\")\n",
    "        print(\"Risk : Minimal\")\n",
    "    elif BMI <= 29.9:\n",
    "        print(\"Overweight\")\n",
    "        print(\"Risk: Increased\")\n",
    "    elif BMI <= 34.9:\n",
    "        print(\"Obse\")\n",
    "        print(\"Risk: High\")\n",
    "    elif BMI <= 39.9:\n",
    "        print(\"Severly Obese\")\n",
    "        print(\"Risk: Very High\")\n",
    "    elif BMI > 40:\n",
    "        print(\"Morbidly Obese\")\n",
    "        print(\"Risk: Extremely High\")\n",
    "else:\n",
    "    print(\"Enter a Valid Input\")\n",
    "        \n"
   ]
  },
  {
   "cell_type": "code",
   "execution_count": null,
   "id": "6946f948-2000-4fdd-8565-d923e466bcd4",
   "metadata": {},
   "outputs": [],
   "source": []
  },
  {
   "cell_type": "code",
   "execution_count": null,
   "id": "13a999bb-0353-4f77-a487-7f35ff5f9427",
   "metadata": {},
   "outputs": [],
   "source": []
  },
  {
   "cell_type": "code",
   "execution_count": null,
   "id": "6d2ae944-ccdb-4560-870e-6f3b70d16a32",
   "metadata": {},
   "outputs": [],
   "source": []
  },
  {
   "cell_type": "code",
   "execution_count": null,
   "id": "e3e5644c-7dff-4e66-9140-ab0e8ccbbf35",
   "metadata": {},
   "outputs": [],
   "source": []
  },
  {
   "cell_type": "code",
   "execution_count": null,
   "id": "c6cdb545-20d7-445e-af75-f3732f203ce6",
   "metadata": {},
   "outputs": [],
   "source": []
  },
  {
   "cell_type": "code",
   "execution_count": null,
   "id": "4db9f77a-54ff-4793-bb89-95afd38903be",
   "metadata": {},
   "outputs": [],
   "source": []
  }
 ],
 "metadata": {
  "kernelspec": {
   "display_name": "Python 3 (ipykernel)",
   "language": "python",
   "name": "python3"
  },
  "language_info": {
   "codemirror_mode": {
    "name": "ipython",
    "version": 3
   },
   "file_extension": ".py",
   "mimetype": "text/x-python",
   "name": "python",
   "nbconvert_exporter": "python",
   "pygments_lexer": "ipython3",
   "version": "3.12.4"
  }
 },
 "nbformat": 4,
 "nbformat_minor": 5
}
