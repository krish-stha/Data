{
 "cells": [
  {
   "cell_type": "markdown",
   "id": "7af3ece7-96ba-4ec4-935f-35914d535112",
   "metadata": {},
   "source": [
    "#Variables In Python"
   ]
  },
  {
   "cell_type": "code",
   "execution_count": 4,
   "id": "11b80dd1-ff63-4595-b689-038f373a76d5",
   "metadata": {},
   "outputs": [
    {
     "name": "stdout",
     "output_type": "stream",
     "text": [
      "22\n"
     ]
    }
   ],
   "source": [
    "x=22\n",
    "print(x)"
   ]
  },
  {
   "cell_type": "code",
   "execution_count": 6,
   "id": "ec74483f-f8b7-4edd-823c-21ce80fd767b",
   "metadata": {},
   "outputs": [
    {
     "data": {
      "text/plain": [
       "int"
      ]
     },
     "execution_count": 6,
     "metadata": {},
     "output_type": "execute_result"
    }
   ],
   "source": [
    "type(x)"
   ]
  },
  {
   "cell_type": "code",
   "execution_count": 14,
   "id": "7e779141-218a-4e0c-847d-d8cec8cbdbc6",
   "metadata": {},
   "outputs": [],
   "source": [
    "x,y,z=10,11,12\n"
   ]
  },
  {
   "cell_type": "code",
   "execution_count": 26,
   "id": "c2d6f3c1-46b3-464e-bdea-580fef2aafd9",
   "metadata": {},
   "outputs": [
    {
     "name": "stdout",
     "output_type": "stream",
     "text": [
      "chocolate\n",
      "Vanilla\n"
     ]
    }
   ],
   "source": [
    "ice_cream=['chocolate','Vanilla']\n",
    "x,y=ice_cream\n",
    "print(x)\n",
    "print(y)"
   ]
  },
  {
   "cell_type": "code",
   "execution_count": 28,
   "id": "60e17039-1fb3-4171-a986-3823015b9ead",
   "metadata": {},
   "outputs": [
    {
     "name": "stdout",
     "output_type": "stream",
     "text": [
      "cat\n"
     ]
    }
   ],
   "source": [
    "#Camel Case\n",
    "animalName=\"cat\"\n",
    "print(animalName)\n"
   ]
  },
  {
   "cell_type": "code",
   "execution_count": 30,
   "id": "2e85c081-1ea4-4da3-9185-497c681e74cf",
   "metadata": {},
   "outputs": [
    {
     "name": "stdout",
     "output_type": "stream",
     "text": [
      "Dog\n"
     ]
    }
   ],
   "source": [
    "#pascal case\n",
    "AnimalName=\"Dog\"\n",
    "print(AnimalName)"
   ]
  },
  {
   "cell_type": "code",
   "execution_count": 32,
   "id": "2d14b19a-d9c0-459e-b122-6a9eda4178bf",
   "metadata": {},
   "outputs": [
    {
     "name": "stdout",
     "output_type": "stream",
     "text": [
      "rat\n"
     ]
    }
   ],
   "source": [
    "#snake case\n",
    "animal_name=\"rat\"\n",
    "print(animal_name)"
   ]
  },
  {
   "cell_type": "code",
   "execution_count": null,
   "id": "99505797-82a1-457a-a560-b25f221aaf9c",
   "metadata": {},
   "outputs": [],
   "source": []
  }
 ],
 "metadata": {
  "kernelspec": {
   "display_name": "Python 3 (ipykernel)",
   "language": "python",
   "name": "python3"
  },
  "language_info": {
   "codemirror_mode": {
    "name": "ipython",
    "version": 3
   },
   "file_extension": ".py",
   "mimetype": "text/x-python",
   "name": "python",
   "nbconvert_exporter": "python",
   "pygments_lexer": "ipython3",
   "version": "3.12.4"
  }
 },
 "nbformat": 4,
 "nbformat_minor": 5
}
