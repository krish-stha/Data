{
 "cells": [
  {
   "cell_type": "markdown",
   "id": "77f8787f-da2f-4b68-a330-afe5debefe25",
   "metadata": {},
   "source": [
    "DATA TYPES"
   ]
  },
  {
   "cell_type": "markdown",
   "id": "dbfbfe01-0156-46bc-96a8-1d7adae2f22b",
   "metadata": {},
   "source": [
    "NUMERIC"
   ]
  },
  {
   "cell_type": "code",
   "execution_count": 19,
   "id": "d11436da-e658-4cf9-815b-9e3f48bc2fc9",
   "metadata": {},
   "outputs": [
    {
     "data": {
      "text/plain": [
       "int"
      ]
     },
     "execution_count": 19,
     "metadata": {},
     "output_type": "execute_result"
    }
   ],
   "source": [
    "type(10)"
   ]
  },
  {
   "cell_type": "code",
   "execution_count": 4,
   "id": "bca57c2f-a321-4ae3-b6cb-d70769aa2f02",
   "metadata": {},
   "outputs": [
    {
     "data": {
      "text/plain": [
       "float"
      ]
     },
     "execution_count": 4,
     "metadata": {},
     "output_type": "execute_result"
    }
   ],
   "source": [
    "type(0.5)"
   ]
  },
  {
   "cell_type": "code",
   "execution_count": null,
   "id": "d996de02-218a-415f-b6c7-7535db2e246c",
   "metadata": {},
   "outputs": [],
   "source": []
  },
  {
   "cell_type": "code",
   "execution_count": 12,
   "id": "54b3ad4d-d8c1-4b78-b8cb-470b2982b72b",
   "metadata": {},
   "outputs": [
    {
     "data": {
      "text/plain": [
       "complex"
      ]
     },
     "execution_count": 12,
     "metadata": {},
     "output_type": "execute_result"
    }
   ],
   "source": [
    "# j is only one that we can use\n",
    "type(5+2j) "
   ]
  },
  {
   "cell_type": "code",
   "execution_count": 16,
   "id": "db8dab71-c0fa-469c-a16d-d52e2de12647",
   "metadata": {},
   "outputs": [
    {
     "data": {
      "text/plain": [
       "bool"
      ]
     },
     "execution_count": 16,
     "metadata": {},
     "output_type": "execute_result"
    }
   ],
   "source": [
    "type(1>5)"
   ]
  },
  {
   "cell_type": "markdown",
   "id": "82132a96-1aa6-4fcc-ad95-db8d4410314a",
   "metadata": {},
   "source": [
    "STRINGS"
   ]
  },
  {
   "cell_type": "code",
   "execution_count": 2,
   "id": "189cb1aa-e10a-4062-acae-f4c960bc63ac",
   "metadata": {},
   "outputs": [
    {
     "data": {
      "text/plain": [
       "'single Quote'"
      ]
     },
     "execution_count": 2,
     "metadata": {},
     "output_type": "execute_result"
    }
   ],
   "source": [
    "'single Quote'"
   ]
  },
  {
   "cell_type": "code",
   "execution_count": 4,
   "id": "6b5f016d-ce78-4704-8403-2fb9eed29f8e",
   "metadata": {},
   "outputs": [
    {
     "data": {
      "text/plain": [
       "'Double Quote'"
      ]
     },
     "execution_count": 4,
     "metadata": {},
     "output_type": "execute_result"
    }
   ],
   "source": [
    "\"Double Quote\""
   ]
  },
  {
   "cell_type": "code",
   "execution_count": 8,
   "id": "e619d706-1280-4ca5-b339-076c349b2ab9",
   "metadata": {},
   "outputs": [
    {
     "data": {
      "text/plain": [
       "'\\nTriple \\nQuote\\n'"
      ]
     },
     "execution_count": 8,
     "metadata": {},
     "output_type": "execute_result"
    }
   ],
   "source": [
    "\"\"\"\n",
    "Triple \n",
    "Quote\n",
    "\"\"\""
   ]
  },
  {
   "cell_type": "code",
   "execution_count": 10,
   "id": "8a8d1056-2dfd-4e29-983a-5131df5318b8",
   "metadata": {},
   "outputs": [
    {
     "data": {
      "text/plain": [
       "\"I 've a bag of money'\""
      ]
     },
     "execution_count": 10,
     "metadata": {},
     "output_type": "execute_result"
    }
   ],
   "source": [
    "\"I 've a bag of money'\""
   ]
  },
  {
   "cell_type": "code",
   "execution_count": 12,
   "id": "f6b68da9-af11-4c7d-9666-5f19b979147a",
   "metadata": {},
   "outputs": [
    {
     "name": "stdout",
     "output_type": "stream",
     "text": [
      "Hello\n"
     ]
    }
   ],
   "source": [
    "#Provide 5 indexes of variable a\n",
    "a=\"Hello World\"\n",
    "print(a[:5])"
   ]
  },
  {
   "cell_type": "markdown",
   "id": "0136e993-a5b1-42f4-8ee1-f63cea44e794",
   "metadata": {},
   "source": [
    "LIST\n"
   ]
  },
  {
   "cell_type": "code",
   "execution_count": 15,
   "id": "0eac7250-5142-407f-8e78-da0464221c71",
   "metadata": {},
   "outputs": [
    {
     "data": {
      "text/plain": [
       "[1, 2, 3]"
      ]
     },
     "execution_count": 15,
     "metadata": {},
     "output_type": "execute_result"
    }
   ],
   "source": [
    "[1,2,3]"
   ]
  },
  {
   "cell_type": "code",
   "execution_count": 17,
   "id": "a8e09e6c-7a7b-4b56-a5ff-fad56a128b25",
   "metadata": {},
   "outputs": [
    {
     "data": {
      "text/plain": [
       "['arigato', 'gojaimas']"
      ]
     },
     "execution_count": 17,
     "metadata": {},
     "output_type": "execute_result"
    }
   ],
   "source": [
    "['arigato','gojaimas']"
   ]
  },
  {
   "cell_type": "code",
   "execution_count": 19,
   "id": "cb159912-f757-480d-bd59-e7909c3661a3",
   "metadata": {},
   "outputs": [
    {
     "data": {
      "text/plain": [
       "['vanilla', ['scoops', 'spoons'], True]"
      ]
     },
     "execution_count": 19,
     "metadata": {},
     "output_type": "execute_result"
    }
   ],
   "source": [
    "['vanilla',['scoops','spoons'],True]"
   ]
  },
  {
   "cell_type": "code",
   "execution_count": 1,
   "id": "1ceb8640-1e38-4deb-8210-0cc8fd95fa82",
   "metadata": {},
   "outputs": [],
   "source": [
    "ice_cream=['vanilla', ['scoops', 'spoons'], True]\n",
    "ice_cream.append('salted caramel')"
   ]
  },
  {
   "cell_type": "code",
   "execution_count": 3,
   "id": "6829bfae-f318-49d8-854d-bfac93341059",
   "metadata": {},
   "outputs": [
    {
     "name": "stdout",
     "output_type": "stream",
     "text": [
      "['vanilla', ['scoops', 'spoons'], True, 'salted caramel']\n"
     ]
    }
   ],
   "source": [
    "print(ice_cream)"
   ]
  },
  {
   "cell_type": "code",
   "execution_count": 5,
   "id": "1b8fa538-8ee5-441e-9645-5a196c8e460c",
   "metadata": {},
   "outputs": [],
   "source": [
    "ice_cream[1]='butter scotch'"
   ]
  },
  {
   "cell_type": "code",
   "execution_count": 9,
   "id": "a163d63d-6fc4-4a9d-9580-dc76e043c30e",
   "metadata": {},
   "outputs": [
    {
     "name": "stdout",
     "output_type": "stream",
     "text": [
      "['vanilla', 'butter scotch', True, 'salted caramel']\n"
     ]
    }
   ],
   "source": [
    "print(ice_cream)"
   ]
  },
  {
   "cell_type": "markdown",
   "id": "6f3e5269-d6d3-4dbb-a0b9-9fad132230fb",
   "metadata": {},
   "source": [
    "Tuple"
   ]
  },
  {
   "cell_type": "code",
   "execution_count": 12,
   "id": "8021bcf2-0190-454d-94e7-37081860ed92",
   "metadata": {},
   "outputs": [],
   "source": [
    "tuple_drama=(1,2,3,1)"
   ]
  },
  {
   "cell_type": "code",
   "execution_count": 14,
   "id": "36410b79-4fab-489d-87d5-9cccf2b5dafa",
   "metadata": {},
   "outputs": [
    {
     "name": "stdout",
     "output_type": "stream",
     "text": [
      "(1, 2, 3, 1)\n"
     ]
    }
   ],
   "source": [
    "print(tuple_drama)"
   ]
  },
  {
   "cell_type": "code",
   "execution_count": 16,
   "id": "b67ed429-bf06-443d-acf0-c31a3398b3ff",
   "metadata": {},
   "outputs": [
    {
     "ename": "AttributeError",
     "evalue": "'tuple' object has no attribute 'append'",
     "output_type": "error",
     "traceback": [
      "\u001b[1;31m---------------------------------------------------------------------------\u001b[0m",
      "\u001b[1;31mAttributeError\u001b[0m                            Traceback (most recent call last)",
      "Cell \u001b[1;32mIn[16], line 1\u001b[0m\n\u001b[1;32m----> 1\u001b[0m tuple_drama\u001b[38;5;241m.\u001b[39mappend(\u001b[38;5;241m1\u001b[39m)\n",
      "\u001b[1;31mAttributeError\u001b[0m: 'tuple' object has no attribute 'append'"
     ]
    }
   ],
   "source": [
    "tuple_drama.append(1) #we cannot do so , because it is immutable"
   ]
  },
  {
   "cell_type": "markdown",
   "id": "dd0263ed-f382-40fe-9fef-65ccb954b1d3",
   "metadata": {},
   "source": [
    "Sets"
   ]
  },
  {
   "cell_type": "code",
   "execution_count": 21,
   "id": "66b03d12-94b0-4a35-9953-f1be8505c96d",
   "metadata": {},
   "outputs": [
    {
     "name": "stdout",
     "output_type": "stream",
     "text": [
      "{1, 2, 3, 4}\n"
     ]
    }
   ],
   "source": [
    "# No Duplicate is allowed\n",
    "\n",
    "set_number={1,2,3,4,1}\n",
    "print(set_number)"
   ]
  },
  {
   "cell_type": "code",
   "execution_count": 23,
   "id": "a0ca7e32-06c2-45be-ba1b-4217089fea26",
   "metadata": {},
   "outputs": [
    {
     "data": {
      "text/plain": [
       "dict"
      ]
     },
     "execution_count": 23,
     "metadata": {},
     "output_type": "execute_result"
    }
   ],
   "source": [
    "a={}\n",
    "type(a)"
   ]
  },
  {
   "cell_type": "markdown",
   "id": "71b065e1-a2bf-4a01-a38a-f65359d11a32",
   "metadata": {},
   "source": [
    "Dictionaries"
   ]
  },
  {
   "cell_type": "code",
   "execution_count": 26,
   "id": "a0f46eef-1e9e-4578-ba6d-c6c33cf3bdec",
   "metadata": {},
   "outputs": [
    {
     "name": "stdout",
     "output_type": "stream",
     "text": [
      "{'football': 'Lionel Messi', 'cricket': 'Rohit Sharma', 'volleyball': 'krish'}\n"
     ]
    }
   ],
   "source": [
    "# It store data in key value pair\n",
    "\n",
    "dict_sport={\"football\":\"Lionel Messi\",\"cricket\":\"Rohit Sharma\",\"volleyball\":\"krish\"}\n",
    "print(dict_sport)"
   ]
  },
  {
   "cell_type": "code",
   "execution_count": 28,
   "id": "6d271f1f-aa81-49c3-8f01-588ff79eaffc",
   "metadata": {},
   "outputs": [
    {
     "data": {
      "text/plain": [
       "dict_values(['Lionel Messi', 'Rohit Sharma', 'krish'])"
      ]
     },
     "execution_count": 28,
     "metadata": {},
     "output_type": "execute_result"
    }
   ],
   "source": [
    "dict_sport.values()"
   ]
  },
  {
   "cell_type": "code",
   "execution_count": 30,
   "id": "39e0078c-864b-41ea-8034-a95c64e6a3a6",
   "metadata": {},
   "outputs": [
    {
     "data": {
      "text/plain": [
       "dict_keys(['football', 'cricket', 'volleyball'])"
      ]
     },
     "execution_count": 30,
     "metadata": {},
     "output_type": "execute_result"
    }
   ],
   "source": [
    "dict_sport.keys()"
   ]
  },
  {
   "cell_type": "code",
   "execution_count": 32,
   "id": "8f2aadda-36e3-45d5-acf4-d4463bc36f47",
   "metadata": {},
   "outputs": [
    {
     "data": {
      "text/plain": [
       "'Lionel Messi'"
      ]
     },
     "execution_count": 32,
     "metadata": {},
     "output_type": "execute_result"
    }
   ],
   "source": [
    "dict_sport[\"football\"]"
   ]
  },
  {
   "cell_type": "code",
   "execution_count": 34,
   "id": "1316d7c6-bef5-454b-ad84-e9d70f2c38ad",
   "metadata": {},
   "outputs": [],
   "source": [
    "del dict_sport['volleyball']"
   ]
  },
  {
   "cell_type": "code",
   "execution_count": 36,
   "id": "61dac6c9-c3ff-408f-9423-8bab738b7508",
   "metadata": {},
   "outputs": [
    {
     "name": "stdout",
     "output_type": "stream",
     "text": [
      "{'football': 'Lionel Messi', 'cricket': 'Rohit Sharma'}\n"
     ]
    }
   ],
   "source": [
    "print(dict_sport)"
   ]
  },
  {
   "cell_type": "code",
   "execution_count": null,
   "id": "3a59491b-a4fb-4612-99c2-6fd457ace13f",
   "metadata": {},
   "outputs": [],
   "source": []
  }
 ],
 "metadata": {
  "kernelspec": {
   "display_name": "Python 3 (ipykernel)",
   "language": "python",
   "name": "python3"
  },
  "language_info": {
   "codemirror_mode": {
    "name": "ipython",
    "version": 3
   },
   "file_extension": ".py",
   "mimetype": "text/x-python",
   "name": "python",
   "nbconvert_exporter": "python",
   "pygments_lexer": "ipython3",
   "version": "3.12.4"
  }
 },
 "nbformat": 4,
 "nbformat_minor": 5
}
