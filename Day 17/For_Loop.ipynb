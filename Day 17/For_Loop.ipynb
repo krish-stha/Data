{
 "cells": [
  {
   "cell_type": "markdown",
   "id": "7e7146ef-3b5d-4231-83e3-1fe1a727cb20",
   "metadata": {},
   "source": [
    "For Loop"
   ]
  },
  {
   "cell_type": "code",
   "execution_count": 2,
   "id": "dc618ce5-0421-4994-99a4-c41865681b9d",
   "metadata": {},
   "outputs": [
    {
     "name": "stdout",
     "output_type": "stream",
     "text": [
      "1\n",
      "2\n",
      "3\n",
      "4\n",
      "5\n"
     ]
    }
   ],
   "source": [
    "integers=[1,2,3,4,5]\n",
    "for i in integers:\n",
    "    print(i)"
   ]
  },
  {
   "cell_type": "code",
   "execution_count": null,
   "id": "7d548501-81c1-4996-ab1e-c2ffeb0f3bbb",
   "metadata": {},
   "outputs": [],
   "source": [
    "for i in integers:\n",
    "    print(i)"
   ]
  },
  {
   "cell_type": "code",
   "execution_count": 10,
   "id": "b0436fdd-3bf9-4851-be1d-1c7a0d10545b",
   "metadata": {},
   "outputs": [
    {
     "name": "stdout",
     "output_type": "stream",
     "text": [
      "name john\n",
      "age 15\n"
     ]
    }
   ],
   "source": [
    "dict={\"name\":\"john\",\"age\":15}\n",
    "for i in dict:\n",
    "    print(i,dict[i])"
   ]
  },
  {
   "cell_type": "code",
   "execution_count": 12,
   "id": "df747771-aa72-43ae-93a3-26d3cca6eeff",
   "metadata": {},
   "outputs": [
    {
     "name": "stdout",
     "output_type": "stream",
     "text": [
      "john\n",
      "15\n"
     ]
    }
   ],
   "source": [
    "dict={\"name\":\"john\",\"age\":15}\n",
    "for i in dict.values():\n",
    "    print(i)"
   ]
  },
  {
   "cell_type": "code",
   "execution_count": 14,
   "id": "740e9ed9-1cf6-4381-80a0-026f1c3f00a1",
   "metadata": {},
   "outputs": [
    {
     "name": "stdout",
     "output_type": "stream",
     "text": [
      "name john\n",
      "age 15\n"
     ]
    }
   ],
   "source": [
    "for key,value in dict.items():\n",
    "    print(key,value)"
   ]
  },
  {
   "cell_type": "markdown",
   "id": "a4326d87-a59b-4267-8dc5-d4aa1ebdbc36",
   "metadata": {},
   "source": [
    "Nested For Loop"
   ]
  },
  {
   "cell_type": "code",
   "execution_count": 19,
   "id": "fcb8ff53-f095-4a72-9e32-eb5817d2d1c7",
   "metadata": {},
   "outputs": [
    {
     "name": "stdout",
     "output_type": "stream",
     "text": [
      "Vanilla topped with  Hot fudge\n",
      "Vanilla topped with  oreos\n",
      "chocolate topped with  Hot fudge\n",
      "chocolate topped with  oreos\n"
     ]
    }
   ],
   "source": [
    "flavors=['Vanilla','chocolate']\n",
    "toppings=['Hot fudge','oreos']\n",
    "\n",
    "for i in flavors:\n",
    "    for j in toppings:\n",
    "        print(i,\"topped with \",j)"
   ]
  },
  {
   "cell_type": "code",
   "execution_count": 21,
   "id": "27cd8d6a-dba6-493e-82b6-68bb781273ec",
   "metadata": {},
   "outputs": [
    {
     "name": "stdout",
     "output_type": "stream",
     "text": [
      "0\n",
      "1\n",
      "2\n",
      "3\n",
      "4\n",
      "5\n",
      "6\n",
      "7\n",
      "8\n",
      "9\n"
     ]
    }
   ],
   "source": [
    "for i in range(10):\n",
    "    print(i)"
   ]
  },
  {
   "cell_type": "code",
   "execution_count": null,
   "id": "273f8350-6a75-4435-a82d-b8aa9bebef3a",
   "metadata": {},
   "outputs": [],
   "source": []
  }
 ],
 "metadata": {
  "kernelspec": {
   "display_name": "Python 3 (ipykernel)",
   "language": "python",
   "name": "python3"
  },
  "language_info": {
   "codemirror_mode": {
    "name": "ipython",
    "version": 3
   },
   "file_extension": ".py",
   "mimetype": "text/x-python",
   "name": "python",
   "nbconvert_exporter": "python",
   "pygments_lexer": "ipython3",
   "version": "3.12.4"
  }
 },
 "nbformat": 4,
 "nbformat_minor": 5
}
