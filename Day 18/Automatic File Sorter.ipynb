{
 "cells": [
  {
   "cell_type": "markdown",
   "id": "c5b80959-e477-46ee-a96a-7865f7361fbb",
   "metadata": {},
   "source": [
    "Automatic File Sorter In File Explorer"
   ]
  },
  {
   "cell_type": "code",
   "execution_count": 1,
   "id": "fbd0c24c-2889-43f6-9385-a6de81244abf",
   "metadata": {},
   "outputs": [],
   "source": [
    "#shutil allows us to do high level operation in file explorer\n",
    "import os, shutil\n",
    "path=r\"C:\\Users\\97798\\Data\\Day 18\\Sorting FIle\""
   ]
  },
  {
   "cell_type": "code",
   "execution_count": 53,
   "id": "eae4dc69-23a6-4967-88c4-260f81e2744d",
   "metadata": {},
   "outputs": [
    {
     "name": "stdout",
     "output_type": "stream",
     "text": [
      "['image files', 'login.jpg', 'txt files', 'XLSX files']\n"
     ]
    }
   ],
   "source": [
    "file_name=os.listdir(path)\n",
    "print(file_name)"
   ]
  },
  {
   "cell_type": "code",
   "execution_count": null,
   "id": "bed7e97d-cfee-4c63-a029-0cefb76538b6",
   "metadata": {},
   "outputs": [],
   "source": [
    "folder_names=['XLSX files','image files','txt files']\n",
    "for loop in range(3):\n",
    "    if not os.path.exists(path +\" \\\\\"+ folder_names[loop]):\n",
    "        os.makedirs(path+\"\\\\\"+folder_names[loop])"
   ]
  },
  {
   "cell_type": "code",
   "execution_count": 55,
   "id": "6baea47f-20cf-4dbe-899c-7172472dd01f",
   "metadata": {},
   "outputs": [],
   "source": [
    "for file in file_name:\n",
    "    if \".xlsx\" in file and not os.path.exists(path+\"\\\\\"+\"XLSX files\"+\"\\\\\"+file):\n",
    "        shutil.move(path+\"\\\\\"+file,path+\"\\\\\"+\"XLSX files\"+\"\\\\\"+file)\n",
    "    elif (\".png\" in file or \".jpg\" in file) and not os.path.exists(path+\"\\\\\"+\"image files\"+\"\\\\\"+file):\n",
    "        shutil.move(path+\"\\\\\"+file,path+\"\\\\\"+\"image files\"+\"\\\\\"+file)\n",
    "    elif \".txt\" in file and not os.path.exists(path+\"\\\\\"+\"txt files\"+\"\\\\\"+file):\n",
    "        shutil.move(path+\"\\\\\"+file,path+\"\\\\\"+\"txt files\"+\"\\\\\"+file)\n"
   ]
  },
  {
   "cell_type": "code",
   "execution_count": null,
   "id": "680b7379-d536-4197-b1d6-781e7c698919",
   "metadata": {},
   "outputs": [],
   "source": []
  },
  {
   "cell_type": "code",
   "execution_count": null,
   "id": "8b1a3dbd-254f-4253-ab10-4cedda01b45e",
   "metadata": {},
   "outputs": [],
   "source": []
  }
 ],
 "metadata": {
  "kernelspec": {
   "display_name": "Python 3 (ipykernel)",
   "language": "python",
   "name": "python3"
  },
  "language_info": {
   "codemirror_mode": {
    "name": "ipython",
    "version": 3
   },
   "file_extension": ".py",
   "mimetype": "text/x-python",
   "name": "python",
   "nbconvert_exporter": "python",
   "pygments_lexer": "ipython3",
   "version": "3.12.4"
  }
 },
 "nbformat": 4,
 "nbformat_minor": 5
}
